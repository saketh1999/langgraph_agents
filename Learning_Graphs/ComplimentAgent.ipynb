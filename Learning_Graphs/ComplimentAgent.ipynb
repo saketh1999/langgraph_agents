{
 "cells": [
  {
   "cell_type": "code",
   "execution_count": 1,
   "id": "aec00b86",
   "metadata": {},
   "outputs": [],
   "source": [
    "from typing import TypedDict,Dict\n",
    "from langgraph.graph import StateGraph"
   ]
  },
  {
   "cell_type": "code",
   "execution_count": 2,
   "id": "f5bd0748",
   "metadata": {},
   "outputs": [],
   "source": [
    "class AgentState(TypedDict):\n",
    "    message:str\n",
    "    person:str\n",
    "\n",
    "def compliment_person(state:AgentState)->AgentState:\n",
    "    \"\"\"Simple Node that adds a compliment to the message\"\"\"\n",
    "    state['message'] = f\"Hey {state['person']}, you look great today!\"\n",
    "    return state\n",
    "\n",
    "\n"
   ]
  },
  {
   "cell_type": "code",
   "execution_count": null,
   "id": "1de07537",
   "metadata": {},
   "outputs": [],
   "source": [
    "from IPython.display import Image,display"
   ]
  },
  {
   "cell_type": "code",
   "execution_count": null,
   "id": "dc71ebb2",
   "metadata": {},
   "outputs": [
    {
     "name": "stdout",
     "output_type": "stream",
     "text": [
      "Hey Sri Sai, you look great today!\n"
     ]
    }
   ],
   "source": [
    "graph = StateGraph(AgentState)\n",
    "\n",
    "graph.add_node(\"complimenter\",compliment_person)\n",
    "\n",
    "graph.set_entry_point(\"complimenter\")\n",
    "\n",
    "graph.set_finish_point(\"complimenter\")\n",
    "\n",
    "app = graph.compile()\n",
    "\n",
    "result = app.invoke({\"person\":\"Sri Sai\"})\n",
    "print(result['message'])\n"
   ]
  }
 ],
 "metadata": {
  "kernelspec": {
   "display_name": "langgraph",
   "language": "python",
   "name": "python3"
  },
  "language_info": {
   "codemirror_mode": {
    "name": "ipython",
    "version": 3
   },
   "file_extension": ".py",
   "mimetype": "text/x-python",
   "name": "python",
   "nbconvert_exporter": "python",
   "pygments_lexer": "ipython3",
   "version": "3.11.4"
  }
 },
 "nbformat": 4,
 "nbformat_minor": 5
}
