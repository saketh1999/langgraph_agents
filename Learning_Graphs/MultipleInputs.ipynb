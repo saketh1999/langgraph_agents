{
 "cells": [
  {
   "cell_type": "code",
   "execution_count": 30,
   "id": "d3249b6b",
   "metadata": {},
   "outputs": [],
   "source": [
    "from typing import TypedDict,Dict,List\n",
    "from langgraph.graph import StateGraph\n",
    "\n",
    "class AgentState(TypedDict):\n",
    "    values: List[int]\n",
    "    name:str\n",
    "    result:str\n",
    "    operation:str\n",
    "    "
   ]
  },
  {
   "cell_type": "code",
   "execution_count": 31,
   "id": "66040968",
   "metadata": {},
   "outputs": [],
   "source": [
    "def process_values(state:AgentState)->AgentState:\n",
    "    \"\"\"This function handles multiple different inputs\"\"\"\n",
    "    state['result'] = f\"Hi There {state['name']} and the sum of your values is {sum(state['values'])}\"\n",
    "    return state\n",
    "\n",
    "\n",
    "\n",
    "\n",
    "\n"
   ]
  },
  {
   "cell_type": "code",
   "execution_count": 32,
   "id": "69e61a08",
   "metadata": {},
   "outputs": [],
   "source": [
    "graph = StateGraph(AgentState)\n",
    "\n",
    "graph.add_node(\"process_values\",process_values)\n",
    "\n",
    "graph.set_entry_point(\"process_values\")\n",
    "\n",
    "graph.set_finish_point(\"process_values\")\n",
    "\n",
    "app = graph.compile()\n",
    "\n"
   ]
  },
  {
   "cell_type": "code",
   "execution_count": 33,
   "id": "a90d13e4",
   "metadata": {},
   "outputs": [
    {
     "name": "stdout",
     "output_type": "stream",
     "text": [
      "Hi There Sri Sai and the sum of your values is 6\n"
     ]
    }
   ],
   "source": [
    "result = app.invoke({\"values\":[1,2,3],\"name\":\"Sri Sai\"})\n",
    "print(result['result'])"
   ]
  },
  {
   "cell_type": "markdown",
   "id": "c58fb31a",
   "metadata": {},
   "source": [
    "## Practise Question\n"
   ]
  },
  {
   "cell_type": "code",
   "execution_count": 34,
   "id": "91ac748f",
   "metadata": {},
   "outputs": [],
   "source": [
    "from functools import reduce\n",
    "def multiply_or_add(state:AgentState)->AgentState:\n",
    "    operation = state['operation']\n",
    "\n",
    "    if operation == \"*\":\n",
    "        state[\"result\"] = f\"Hi {state['name']} your product is \" + str(multiply_list(state['values']) )\n",
    "    else:\n",
    "        state[\"result\"] = f\"Hi {state['name']} your sum is \" + str(add_list(state['values']) )\n",
    "    return state\n",
    "\n",
    "\n",
    "def add_list(nums:list)->int:\n",
    "    return reduce(lambda a,b:a+b,nums)\n",
    "def multiply_list(nums:list)->int:\n",
    "    return reduce(lambda a,b:a*b,nums)\n",
    "\n"
   ]
  },
  {
   "cell_type": "code",
   "execution_count": 36,
   "id": "6298d126",
   "metadata": {},
   "outputs": [
    {
     "name": "stdout",
     "output_type": "stream",
     "text": [
      "Hi Sri Sai your product is 181440\n",
      "Hi Sri Sai your sum is 81\n"
     ]
    }
   ],
   "source": [
    "graph = StateGraph(AgentState)\n",
    "\n",
    "graph.add_node(\"multiply_or_add\",multiply_or_add)\n",
    "\n",
    "graph.set_entry_point(\"multiply_or_add\")\n",
    "\n",
    "graph.set_finish_point(\"multiply_or_add\")\n",
    "\n",
    "app = graph.compile()\n",
    "\n",
    "result = app.invoke({\"values\":[1,2,3,6,7,8,9,10],\"name\":\"Sri Sai\",\"operation\":\"*\"})\n",
    "print(result['result'])\n",
    "\n",
    "result = app.invoke({\"values\":[1,2,3,10,11,12,13,14,15],\"name\":\"Sri Sai\",\"operation\":\"+\"})\n",
    "print(result['result'])\n"
   ]
  }
 ],
 "metadata": {
  "kernelspec": {
   "display_name": "langgraph",
   "language": "python",
   "name": "python3"
  },
  "language_info": {
   "codemirror_mode": {
    "name": "ipython",
    "version": 3
   },
   "file_extension": ".py",
   "mimetype": "text/x-python",
   "name": "python",
   "nbconvert_exporter": "python",
   "pygments_lexer": "ipython3",
   "version": "3.11.4"
  }
 },
 "nbformat": 4,
 "nbformat_minor": 5
}
